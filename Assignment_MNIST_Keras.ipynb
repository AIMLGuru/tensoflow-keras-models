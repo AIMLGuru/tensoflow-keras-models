{
 "cells": [
  {
   "cell_type": "code",
   "execution_count": 1,
   "metadata": {
    "id": "3mrIsNmvC_C1"
   },
   "outputs": [],
   "source": [
    "import tensorflow as tf\n",
    "from tensorflow.keras import utils\n",
    "from tensorflow.keras.utils import plot_model\n",
    "from tensorflow.keras.datasets import mnist\n",
    "from tensorflow.keras.initializers import he_normal\n",
    "import seaborn as sns\n",
    "import matplotlib.pyplot as plt\n",
    "import numpy as np\n",
    "import time"
   ]
  },
  {
   "cell_type": "code",
   "execution_count": 2,
   "metadata": {
    "id": "4bsQGaBs0qgr"
   },
   "outputs": [],
   "source": [
    "%matplotlib notebook\n",
    "%matplotlib inline\n",
    "def plt_dynamic(x, vy, ty, ax, color=['b']):\n",
    "    ax.plot(x, vy, 'b', label=\"Validation Loss\")\n",
    "    ax.plot(x, ty, 'r', label=\"Train Loss\")\n",
    "    plt.legend()\n",
    "    plt.grid()\n",
    "    fig.canvas.draw()"
   ]
  },
  {
   "cell_type": "code",
   "execution_count": 3,
   "metadata": {
    "colab": {
     "base_uri": "https://localhost:8080/"
    },
    "id": "PJAtr5g50q_r",
    "outputId": "704ff338-054c-4fa4-b9a2-627cfdcfd9fa"
   },
   "outputs": [
    {
     "name": "stdout",
     "output_type": "stream",
     "text": [
      "Downloading data from https://storage.googleapis.com/tensorflow/tf-keras-datasets/mnist.npz\n",
      "11493376/11490434 [==============================] - 0s 0us/step\n",
      "11501568/11490434 [==============================] - 0s 0us/step\n"
     ]
    }
   ],
   "source": [
    "(X_train, y_train),(X_test, y_test)=mnist.load_data()"
   ]
  },
  {
   "cell_type": "code",
   "execution_count": 4,
   "metadata": {
    "colab": {
     "base_uri": "https://localhost:8080/"
    },
    "id": "J5-V8FtZ0rCb",
    "outputId": "76e9a0aa-7653-4574-dc30-f1aeab3feecc"
   },
   "outputs": [
    {
     "name": "stdout",
     "output_type": "stream",
     "text": [
      "Number of train datapoints are 60000 and size of each training data is (28, 28)\n",
      "Number of test datapoints are 10000 and size of each training data is (28, 28)\n"
     ]
    }
   ],
   "source": [
    "print('Number of train datapoints are {} and size of each training data is ({}, {})'.format(X_train.shape[0], X_train.shape[1],X_train.shape[2]))\n",
    "print('Number of test datapoints are {} and size of each training data is ({}, {})'.format(X_test.shape[0], X_test.shape[1],X_test.shape[2]))"
   ]
  },
  {
   "cell_type": "code",
   "execution_count": 5,
   "metadata": {
    "colab": {
     "base_uri": "https://localhost:8080/"
    },
    "id": "a-lHwd8e0rHL",
    "outputId": "a49a1daa-47d7-45da-cfe7-4930d1fbebe3"
   },
   "outputs": [
    {
     "name": "stdout",
     "output_type": "stream",
     "text": [
      "A sample training data point is :\n",
      " [[  0   0   0   0   0   0   0   0   0   0   0   0   0   0   0   0   0   0\n",
      "    0   0   0   0   0   0   0   0   0   0]\n",
      " [  0   0   0   0   0   0   0   0   0   0   0   0   0   0   0   0   0   0\n",
      "    0   0   0   0   0   0   0   0   0   0]\n",
      " [  0   0   0   0   0   0   0   0   0   0   0   0   0   0   0   0   0   0\n",
      "    0   0   0   0   0   0   0   0   0   0]\n",
      " [  0   0   0   0   0   0   0   0   0   0   0   0   0   0   0   0   0   0\n",
      "    0   0   0   0   0   0   0   0   0   0]\n",
      " [  0   0   0   0   0   0   0   0   0   0   0   0   0   0   0   0   0  38\n",
      "  190  25   0   0   0   0   0   0   0   0]\n",
      " [  0   0   0  13  25  10   0   0   0   0   0   0   0   0   0   0   0 112\n",
      "  252 125   4   0   0   0   0   0   0   0]\n",
      " [  0   0   0 132 252 113   0   0   0   0   0   0   0   0   0   0   0  61\n",
      "  252 252  36   0   0   0   0   0   0   0]\n",
      " [  0   0   0 132 252 240  79   0   0   0   0   0   0   0   0   0   0  84\n",
      "  252 252  36   0   0   0   0   0   0   0]\n",
      " [  0   0   0 132 252 252 238  52   0   0   0   0   0   0   0   0  12 198\n",
      "  252 252 122   0   0   0   0   0   0   0]\n",
      " [  0   0   0  99 252 252 252 181  17   0   0   0   0   0   0   0  49 252\n",
      "  252 252 122   0   0   0   0   0   0   0]\n",
      " [  0   0   0   3 125 252 252 252 100   0   0   0   0   0   0   0  26 218\n",
      "  252 252  36   0   0   0   0   0   0   0]\n",
      " [  0   0   0   0  15 216 252 252 207  19   0   0   0   0   0   0  49 252\n",
      "  252 252  36   0   0   0   0   0   0   0]\n",
      " [  0   0   0   0   0 157 252 252 252  48   0   0   0   6 109 109 194 252\n",
      "  252 252  36   0   0   0   0   0   0   0]\n",
      " [  0   0   0   0   0 100 252 252 252 105   0  58 116 128 252 252 252 252\n",
      "  252 212  19   0   0   0   0   0   0   0]\n",
      " [  0   0   0   0   0   0 164 253 253 253 253 253 253 255 253 253 253 253\n",
      "  253 253  99   0   0   0   0   0   0   0]\n",
      " [  0   0   0   0   0   0  49 252 252 252 252 252 252 253 252 252 252 252\n",
      "  252 252 155   0   0   0   0   0   0   0]\n",
      " [  0   0   0   0   0   0  49 252 252 252 252 252 252 217 216 141 126 252\n",
      "  252 252 155   0   0   0   0   0   0   0]\n",
      " [  0   0   0   0   0   0  49 252 252 252 234 204  89   0   0   0  49 252\n",
      "  252 252 155   0   0   0   0   0   0   0]\n",
      " [  0   0   0   0   0   0  14 158 192 151  45   0   0   0   0   0  49 252\n",
      "  252 252 225  17   0   0   0   0   0   0]\n",
      " [  0   0   0   0   0   0   0   0   0   0   0   0   0   0   0   0  49 252\n",
      "  252 252 252  23   0   0   0   0   0   0]\n",
      " [  0   0   0   0   0   0   0   0   0   0   0   0   0   0   0   0  33 228\n",
      "  252 252 252 157   4   0   0   0   0   0]\n",
      " [  0   0   0   0   0   0   0   0   0   0   0   0   0   0   0   0   0  55\n",
      "  229 252 252 252  11   0   0   0   0   0]\n",
      " [  0   0   0   0   0   0   0   0   0   0   0   0   0   0   0   0   0   0\n",
      "   53 232 252 252  63   0   0   0   0   0]\n",
      " [  0   0   0   0   0   0   0   0   0   0   0   0   0   0   0   0   0   0\n",
      "    0  90 206 131  11   0   0   0   0   0]\n",
      " [  0   0   0   0   0   0   0   0   0   0   0   0   0   0   0   0   0   0\n",
      "    0   0   0   0   0   0   0   0   0   0]\n",
      " [  0   0   0   0   0   0   0   0   0   0   0   0   0   0   0   0   0   0\n",
      "    0   0   0   0   0   0   0   0   0   0]\n",
      " [  0   0   0   0   0   0   0   0   0   0   0   0   0   0   0   0   0   0\n",
      "    0   0   0   0   0   0   0   0   0   0]\n",
      " [  0   0   0   0   0   0   0   0   0   0   0   0   0   0   0   0   0   0\n",
      "    0   0   0   0   0   0   0   0   0   0]]\n"
     ]
    }
   ],
   "source": [
    "print(\"A sample training data point is :\\n\", X_train[20])"
   ]
  },
  {
   "cell_type": "code",
   "execution_count": 6,
   "metadata": {
    "colab": {
     "base_uri": "https://localhost:8080/"
    },
    "id": "AaCGjoRL0rJT",
    "outputId": "7e8dfaab-75d8-4c67-8c7c-1684d3b6c38f"
   },
   "outputs": [
    {
     "name": "stdout",
     "output_type": "stream",
     "text": [
      "Label for above training datapoint is: 4\n"
     ]
    }
   ],
   "source": [
    "print('Label for above training datapoint is: {}'.format(y_train[20]))"
   ]
  },
  {
   "cell_type": "code",
   "execution_count": 7,
   "metadata": {
    "colab": {
     "base_uri": "https://localhost:8080/"
    },
    "id": "EdvoaA3U0rLr",
    "outputId": "0e4ea396-6178-4ef3-93a4-51f429f41c90"
   },
   "outputs": [
    {
     "name": "stdout",
     "output_type": "stream",
     "text": [
      "A sample train label before on hot encoding: 4\n",
      "A sample train label after on hot encoding: [0. 0. 0. 0. 1. 0. 0. 0. 0. 0.]\n"
     ]
    }
   ],
   "source": [
    "#since y label is a single numeric digit, we want to convert it into one hot encoded value\n",
    "print(\"A sample train label before on hot encoding: {}\".format(y_train[20]))\n",
    "y_train=utils.to_categorical(y_train, 10)\n",
    "y_test=utils.to_categorical(y_test, 10)\n",
    "print(\"A sample train label after on hot encoding: {}\".format(y_train[20]))"
   ]
  },
  {
   "cell_type": "code",
   "execution_count": 8,
   "metadata": {
    "colab": {
     "base_uri": "https://localhost:8080/"
    },
    "id": "MS5-JjF0CMDH",
    "outputId": "50f19565-2fa5-43a0-ecab-209fc90043c4"
   },
   "outputs": [
    {
     "data": {
      "text/plain": [
       "(60000, 28, 28)"
      ]
     },
     "execution_count": 8,
     "metadata": {},
     "output_type": "execute_result"
    }
   ],
   "source": [
    "X_train.shape"
   ]
  },
  {
   "cell_type": "code",
   "execution_count": 9,
   "metadata": {
    "id": "1-N1kLyhCMIv"
   },
   "outputs": [],
   "source": [
    "X_train=X_train.reshape(X_train.shape[0], X_train.shape[1]*X_train.shape[2])\n",
    "X_test=X_test.reshape(X_test.shape[0], X_test.shape[1]*X_test.shape[2])\n"
   ]
  },
  {
   "cell_type": "code",
   "execution_count": 10,
   "metadata": {
    "colab": {
     "base_uri": "https://localhost:8080/"
    },
    "id": "HyUpM3zRFrTc",
    "outputId": "ca287fb8-b5e8-42b4-e0dd-cfb9d2950b2f"
   },
   "outputs": [
    {
     "name": "stdout",
     "output_type": "stream",
     "text": [
      "Shape of X_train is: (60000, 784)\n",
      "Shape of X_test is: (10000, 784)\n"
     ]
    }
   ],
   "source": [
    "print('Shape of X_train is: {}'.format(X_train.shape))\n",
    "print('Shape of X_test is: {}'.format(X_test.shape))"
   ]
  },
  {
   "cell_type": "code",
   "execution_count": 11,
   "metadata": {
    "id": "GlwMtI4OCMLF"
   },
   "outputs": [],
   "source": [
    "#normalize input data\n",
    "X_train = X_train/255\n",
    "X_test = X_test/255"
   ]
  },
  {
   "cell_type": "code",
   "execution_count": 12,
   "metadata": {
    "colab": {
     "base_uri": "https://localhost:8080/"
    },
    "id": "BGZuUUxpCMPu",
    "outputId": "4c6ff602-48cb-4bc1-fdd9-d0feaf2b646a"
   },
   "outputs": [
    {
     "data": {
      "text/plain": [
       "array([0.        , 0.        , 0.        , 0.        , 0.        ,\n",
       "       0.        , 0.        , 0.        , 0.        , 0.        ,\n",
       "       0.        , 0.        , 0.        , 0.        , 0.        ,\n",
       "       0.        , 0.        , 0.        , 0.        , 0.        ,\n",
       "       0.        , 0.        , 0.        , 0.        , 0.        ,\n",
       "       0.        , 0.        , 0.        , 0.        , 0.        ,\n",
       "       0.        , 0.        , 0.        , 0.        , 0.        ,\n",
       "       0.        , 0.        , 0.        , 0.        , 0.        ,\n",
       "       0.        , 0.        , 0.        , 0.        , 0.        ,\n",
       "       0.        , 0.        , 0.        , 0.        , 0.        ,\n",
       "       0.        , 0.        , 0.        , 0.        , 0.        ,\n",
       "       0.        , 0.        , 0.        , 0.        , 0.        ,\n",
       "       0.        , 0.        , 0.        , 0.        , 0.        ,\n",
       "       0.        , 0.        , 0.        , 0.        , 0.        ,\n",
       "       0.        , 0.        , 0.        , 0.        , 0.        ,\n",
       "       0.        , 0.        , 0.        , 0.        , 0.        ,\n",
       "       0.        , 0.        , 0.        , 0.        , 0.        ,\n",
       "       0.        , 0.        , 0.        , 0.        , 0.        ,\n",
       "       0.        , 0.        , 0.        , 0.        , 0.        ,\n",
       "       0.        , 0.        , 0.        , 0.        , 0.        ,\n",
       "       0.        , 0.        , 0.        , 0.        , 0.        ,\n",
       "       0.        , 0.        , 0.        , 0.        , 0.        ,\n",
       "       0.        , 0.        , 0.        , 0.        , 0.        ,\n",
       "       0.        , 0.        , 0.        , 0.        , 0.        ,\n",
       "       0.        , 0.        , 0.        , 0.        , 0.        ,\n",
       "       0.        , 0.        , 0.        , 0.        , 0.14901961,\n",
       "       0.74509804, 0.09803922, 0.        , 0.        , 0.        ,\n",
       "       0.        , 0.        , 0.        , 0.        , 0.        ,\n",
       "       0.        , 0.        , 0.        , 0.05098039, 0.09803922,\n",
       "       0.03921569, 0.        , 0.        , 0.        , 0.        ,\n",
       "       0.        , 0.        , 0.        , 0.        , 0.        ,\n",
       "       0.        , 0.        , 0.43921569, 0.98823529, 0.49019608,\n",
       "       0.01568627, 0.        , 0.        , 0.        , 0.        ,\n",
       "       0.        , 0.        , 0.        , 0.        , 0.        ,\n",
       "       0.        , 0.51764706, 0.98823529, 0.44313725, 0.        ,\n",
       "       0.        , 0.        , 0.        , 0.        , 0.        ,\n",
       "       0.        , 0.        , 0.        , 0.        , 0.        ,\n",
       "       0.23921569, 0.98823529, 0.98823529, 0.14117647, 0.        ,\n",
       "       0.        , 0.        , 0.        , 0.        , 0.        ,\n",
       "       0.        , 0.        , 0.        , 0.        , 0.51764706,\n",
       "       0.98823529, 0.94117647, 0.30980392, 0.        , 0.        ,\n",
       "       0.        , 0.        , 0.        , 0.        , 0.        ,\n",
       "       0.        , 0.        , 0.        , 0.32941176, 0.98823529,\n",
       "       0.98823529, 0.14117647, 0.        , 0.        , 0.        ,\n",
       "       0.        , 0.        , 0.        , 0.        , 0.        ,\n",
       "       0.        , 0.        , 0.51764706, 0.98823529, 0.98823529,\n",
       "       0.93333333, 0.20392157, 0.        , 0.        , 0.        ,\n",
       "       0.        , 0.        , 0.        , 0.        , 0.        ,\n",
       "       0.04705882, 0.77647059, 0.98823529, 0.98823529, 0.47843137,\n",
       "       0.        , 0.        , 0.        , 0.        , 0.        ,\n",
       "       0.        , 0.        , 0.        , 0.        , 0.        ,\n",
       "       0.38823529, 0.98823529, 0.98823529, 0.98823529, 0.70980392,\n",
       "       0.06666667, 0.        , 0.        , 0.        , 0.        ,\n",
       "       0.        , 0.        , 0.        , 0.19215686, 0.98823529,\n",
       "       0.98823529, 0.98823529, 0.47843137, 0.        , 0.        ,\n",
       "       0.        , 0.        , 0.        , 0.        , 0.        ,\n",
       "       0.        , 0.        , 0.        , 0.01176471, 0.49019608,\n",
       "       0.98823529, 0.98823529, 0.98823529, 0.39215686, 0.        ,\n",
       "       0.        , 0.        , 0.        , 0.        , 0.        ,\n",
       "       0.        , 0.10196078, 0.85490196, 0.98823529, 0.98823529,\n",
       "       0.14117647, 0.        , 0.        , 0.        , 0.        ,\n",
       "       0.        , 0.        , 0.        , 0.        , 0.        ,\n",
       "       0.        , 0.        , 0.05882353, 0.84705882, 0.98823529,\n",
       "       0.98823529, 0.81176471, 0.0745098 , 0.        , 0.        ,\n",
       "       0.        , 0.        , 0.        , 0.        , 0.19215686,\n",
       "       0.98823529, 0.98823529, 0.98823529, 0.14117647, 0.        ,\n",
       "       0.        , 0.        , 0.        , 0.        , 0.        ,\n",
       "       0.        , 0.        , 0.        , 0.        , 0.        ,\n",
       "       0.        , 0.61568627, 0.98823529, 0.98823529, 0.98823529,\n",
       "       0.18823529, 0.        , 0.        , 0.        , 0.02352941,\n",
       "       0.42745098, 0.42745098, 0.76078431, 0.98823529, 0.98823529,\n",
       "       0.98823529, 0.14117647, 0.        , 0.        , 0.        ,\n",
       "       0.        , 0.        , 0.        , 0.        , 0.        ,\n",
       "       0.        , 0.        , 0.        , 0.        , 0.39215686,\n",
       "       0.98823529, 0.98823529, 0.98823529, 0.41176471, 0.        ,\n",
       "       0.22745098, 0.45490196, 0.50196078, 0.98823529, 0.98823529,\n",
       "       0.98823529, 0.98823529, 0.98823529, 0.83137255, 0.0745098 ,\n",
       "       0.        , 0.        , 0.        , 0.        , 0.        ,\n",
       "       0.        , 0.        , 0.        , 0.        , 0.        ,\n",
       "       0.        , 0.        , 0.        , 0.64313725, 0.99215686,\n",
       "       0.99215686, 0.99215686, 0.99215686, 0.99215686, 0.99215686,\n",
       "       1.        , 0.99215686, 0.99215686, 0.99215686, 0.99215686,\n",
       "       0.99215686, 0.99215686, 0.38823529, 0.        , 0.        ,\n",
       "       0.        , 0.        , 0.        , 0.        , 0.        ,\n",
       "       0.        , 0.        , 0.        , 0.        , 0.        ,\n",
       "       0.        , 0.19215686, 0.98823529, 0.98823529, 0.98823529,\n",
       "       0.98823529, 0.98823529, 0.98823529, 0.99215686, 0.98823529,\n",
       "       0.98823529, 0.98823529, 0.98823529, 0.98823529, 0.98823529,\n",
       "       0.60784314, 0.        , 0.        , 0.        , 0.        ,\n",
       "       0.        , 0.        , 0.        , 0.        , 0.        ,\n",
       "       0.        , 0.        , 0.        , 0.        , 0.19215686,\n",
       "       0.98823529, 0.98823529, 0.98823529, 0.98823529, 0.98823529,\n",
       "       0.98823529, 0.85098039, 0.84705882, 0.55294118, 0.49411765,\n",
       "       0.98823529, 0.98823529, 0.98823529, 0.60784314, 0.        ,\n",
       "       0.        , 0.        , 0.        , 0.        , 0.        ,\n",
       "       0.        , 0.        , 0.        , 0.        , 0.        ,\n",
       "       0.        , 0.        , 0.19215686, 0.98823529, 0.98823529,\n",
       "       0.98823529, 0.91764706, 0.8       , 0.34901961, 0.        ,\n",
       "       0.        , 0.        , 0.19215686, 0.98823529, 0.98823529,\n",
       "       0.98823529, 0.60784314, 0.        , 0.        , 0.        ,\n",
       "       0.        , 0.        , 0.        , 0.        , 0.        ,\n",
       "       0.        , 0.        , 0.        , 0.        , 0.        ,\n",
       "       0.05490196, 0.61960784, 0.75294118, 0.59215686, 0.17647059,\n",
       "       0.        , 0.        , 0.        , 0.        , 0.        ,\n",
       "       0.19215686, 0.98823529, 0.98823529, 0.98823529, 0.88235294,\n",
       "       0.06666667, 0.        , 0.        , 0.        , 0.        ,\n",
       "       0.        , 0.        , 0.        , 0.        , 0.        ,\n",
       "       0.        , 0.        , 0.        , 0.        , 0.        ,\n",
       "       0.        , 0.        , 0.        , 0.        , 0.        ,\n",
       "       0.        , 0.        , 0.        , 0.19215686, 0.98823529,\n",
       "       0.98823529, 0.98823529, 0.98823529, 0.09019608, 0.        ,\n",
       "       0.        , 0.        , 0.        , 0.        , 0.        ,\n",
       "       0.        , 0.        , 0.        , 0.        , 0.        ,\n",
       "       0.        , 0.        , 0.        , 0.        , 0.        ,\n",
       "       0.        , 0.        , 0.        , 0.        , 0.        ,\n",
       "       0.        , 0.12941176, 0.89411765, 0.98823529, 0.98823529,\n",
       "       0.98823529, 0.61568627, 0.01568627, 0.        , 0.        ,\n",
       "       0.        , 0.        , 0.        , 0.        , 0.        ,\n",
       "       0.        , 0.        , 0.        , 0.        , 0.        ,\n",
       "       0.        , 0.        , 0.        , 0.        , 0.        ,\n",
       "       0.        , 0.        , 0.        , 0.        , 0.        ,\n",
       "       0.21568627, 0.89803922, 0.98823529, 0.98823529, 0.98823529,\n",
       "       0.04313725, 0.        , 0.        , 0.        , 0.        ,\n",
       "       0.        , 0.        , 0.        , 0.        , 0.        ,\n",
       "       0.        , 0.        , 0.        , 0.        , 0.        ,\n",
       "       0.        , 0.        , 0.        , 0.        , 0.        ,\n",
       "       0.        , 0.        , 0.        , 0.        , 0.20784314,\n",
       "       0.90980392, 0.98823529, 0.98823529, 0.24705882, 0.        ,\n",
       "       0.        , 0.        , 0.        , 0.        , 0.        ,\n",
       "       0.        , 0.        , 0.        , 0.        , 0.        ,\n",
       "       0.        , 0.        , 0.        , 0.        , 0.        ,\n",
       "       0.        , 0.        , 0.        , 0.        , 0.        ,\n",
       "       0.        , 0.        , 0.        , 0.35294118, 0.80784314,\n",
       "       0.51372549, 0.04313725, 0.        , 0.        , 0.        ,\n",
       "       0.        , 0.        , 0.        , 0.        , 0.        ,\n",
       "       0.        , 0.        , 0.        , 0.        , 0.        ,\n",
       "       0.        , 0.        , 0.        , 0.        , 0.        ,\n",
       "       0.        , 0.        , 0.        , 0.        , 0.        ,\n",
       "       0.        , 0.        , 0.        , 0.        , 0.        ,\n",
       "       0.        , 0.        , 0.        , 0.        , 0.        ,\n",
       "       0.        , 0.        , 0.        , 0.        , 0.        ,\n",
       "       0.        , 0.        , 0.        , 0.        , 0.        ,\n",
       "       0.        , 0.        , 0.        , 0.        , 0.        ,\n",
       "       0.        , 0.        , 0.        , 0.        , 0.        ,\n",
       "       0.        , 0.        , 0.        , 0.        , 0.        ,\n",
       "       0.        , 0.        , 0.        , 0.        , 0.        ,\n",
       "       0.        , 0.        , 0.        , 0.        , 0.        ,\n",
       "       0.        , 0.        , 0.        , 0.        , 0.        ,\n",
       "       0.        , 0.        , 0.        , 0.        , 0.        ,\n",
       "       0.        , 0.        , 0.        , 0.        , 0.        ,\n",
       "       0.        , 0.        , 0.        , 0.        , 0.        ,\n",
       "       0.        , 0.        , 0.        , 0.        , 0.        ,\n",
       "       0.        , 0.        , 0.        , 0.        , 0.        ,\n",
       "       0.        , 0.        , 0.        , 0.        , 0.        ,\n",
       "       0.        , 0.        , 0.        , 0.        , 0.        ,\n",
       "       0.        , 0.        , 0.        , 0.        , 0.        ,\n",
       "       0.        , 0.        , 0.        , 0.        ])"
      ]
     },
     "execution_count": 12,
     "metadata": {},
     "output_type": "execute_result"
    }
   ],
   "source": [
    "X_train[20]"
   ]
  },
  {
   "cell_type": "code",
   "execution_count": 13,
   "metadata": {
    "colab": {
     "base_uri": "https://localhost:8080/",
     "height": 428
    },
    "id": "YMijxzlFG7UI",
    "outputId": "de14e010-b114-4071-9837-01743a79ddb5"
   },
   "outputs": [
    {
     "data": {
      "image/png": "[encoded data removed]",
      "text/plain": [
       "<Figure size 504x504 with 1 Axes>"
      ]
     },
     "metadata": {
      "needs_background": "light"
     },
     "output_type": "display_data"
    }
   ],
   "source": [
    "from PIL import Image\n",
    "plt.figure(figsize=(7,7))\n",
    "img=X_train[20].reshape(28,28)\n",
    "plt.imshow(img, interpolation = \"none\", cmap = \"gray\")\n",
    "plt.show()"
   ]
  },
  {
   "cell_type": "code",
   "execution_count": 14,
   "metadata": {
    "id": "V_OSAbwWG7ZY"
   },
   "outputs": [],
   "source": [
    "#normalise the train and test data\n",
    "X_train=X_train/255\n",
    "X_test=X_test/255"
   ]
  },
  {
   "cell_type": "code",
   "execution_count": 15,
   "metadata": {
    "colab": {
     "base_uri": "https://localhost:8080/"
    },
    "id": "MWCQSGMbG7cY",
    "outputId": "48c2d7e8-ded5-4d90-d661-741b3e193c5a"
   },
   "outputs": [
    {
     "data": {
      "text/plain": [
       "array([0.00000000e+00, 0.00000000e+00, 0.00000000e+00, 0.00000000e+00,\n",
       "       0.00000000e+00, 0.00000000e+00, 0.00000000e+00, 0.00000000e+00,\n",
       "       0.00000000e+00, 0.00000000e+00, 0.00000000e+00, 0.00000000e+00,\n",
       "       0.00000000e+00, 0.00000000e+00, 0.00000000e+00, 0.00000000e+00,\n",
       "       0.00000000e+00, 0.00000000e+00, 0.00000000e+00, 0.00000000e+00,\n",
       "       0.00000000e+00, 0.00000000e+00, 0.00000000e+00, 0.00000000e+00,\n",
       "       0.00000000e+00, 0.00000000e+00, 0.00000000e+00, 0.00000000e+00,\n",
       "       0.00000000e+00, 0.00000000e+00, 0.00000000e+00, 0.00000000e+00,\n",
       "       0.00000000e+00, 0.00000000e+00, 0.00000000e+00, 0.00000000e+00,\n",
       "       0.00000000e+00, 0.00000000e+00, 0.00000000e+00, 0.00000000e+00,\n",
       "       0.00000000e+00, 0.00000000e+00, 0.00000000e+00, 0.00000000e+00,\n",
       "       0.00000000e+00, 0.00000000e+00, 0.00000000e+00, 0.00000000e+00,\n",
       "       0.00000000e+00, 0.00000000e+00, 0.00000000e+00, 0.00000000e+00,\n",
       "       0.00000000e+00, 0.00000000e+00, 0.00000000e+00, 0.00000000e+00,\n",
       "       0.00000000e+00, 0.00000000e+00, 0.00000000e+00, 0.00000000e+00,\n",
       "       0.00000000e+00, 0.00000000e+00, 0.00000000e+00, 0.00000000e+00,\n",
       "       0.00000000e+00, 0.00000000e+00, 0.00000000e+00, 0.00000000e+00,\n",
       "       0.00000000e+00, 0.00000000e+00, 0.00000000e+00, 0.00000000e+00,\n",
       "       0.00000000e+00, 0.00000000e+00, 0.00000000e+00, 0.00000000e+00,\n",
       "       0.00000000e+00, 0.00000000e+00, 0.00000000e+00, 0.00000000e+00,\n",
       "       0.00000000e+00, 0.00000000e+00, 0.00000000e+00, 0.00000000e+00,\n",
       "       0.00000000e+00, 0.00000000e+00, 0.00000000e+00, 0.00000000e+00,\n",
       "       0.00000000e+00, 0.00000000e+00, 0.00000000e+00, 0.00000000e+00,\n",
       "       0.00000000e+00, 0.00000000e+00, 0.00000000e+00, 0.00000000e+00,\n",
       "       0.00000000e+00, 0.00000000e+00, 0.00000000e+00, 0.00000000e+00,\n",
       "       0.00000000e+00, 0.00000000e+00, 0.00000000e+00, 0.00000000e+00,\n",
       "       0.00000000e+00, 0.00000000e+00, 0.00000000e+00, 0.00000000e+00,\n",
       "       0.00000000e+00, 0.00000000e+00, 0.00000000e+00, 0.00000000e+00,\n",
       "       0.00000000e+00, 0.00000000e+00, 0.00000000e+00, 0.00000000e+00,\n",
       "       0.00000000e+00, 0.00000000e+00, 0.00000000e+00, 0.00000000e+00,\n",
       "       0.00000000e+00, 0.00000000e+00, 0.00000000e+00, 0.00000000e+00,\n",
       "       0.00000000e+00, 0.00000000e+00, 0.00000000e+00, 0.00000000e+00,\n",
       "       0.00000000e+00, 5.84390619e-04, 2.92195309e-03, 3.84467512e-04,\n",
       "       0.00000000e+00, 0.00000000e+00, 0.00000000e+00, 0.00000000e+00,\n",
       "       0.00000000e+00, 0.00000000e+00, 0.00000000e+00, 0.00000000e+00,\n",
       "       0.00000000e+00, 0.00000000e+00, 0.00000000e+00, 1.99923106e-04,\n",
       "       3.84467512e-04, 1.53787005e-04, 0.00000000e+00, 0.00000000e+00,\n",
       "       0.00000000e+00, 0.00000000e+00, 0.00000000e+00, 0.00000000e+00,\n",
       "       0.00000000e+00, 0.00000000e+00, 0.00000000e+00, 0.00000000e+00,\n",
       "       0.00000000e+00, 1.72241446e-03, 3.87543253e-03, 1.92233756e-03,\n",
       "       6.15148020e-05, 0.00000000e+00, 0.00000000e+00, 0.00000000e+00,\n",
       "       0.00000000e+00, 0.00000000e+00, 0.00000000e+00, 0.00000000e+00,\n",
       "       0.00000000e+00, 0.00000000e+00, 0.00000000e+00, 2.02998847e-03,\n",
       "       3.87543253e-03, 1.73779316e-03, 0.00000000e+00, 0.00000000e+00,\n",
       "       0.00000000e+00, 0.00000000e+00, 0.00000000e+00, 0.00000000e+00,\n",
       "       0.00000000e+00, 0.00000000e+00, 0.00000000e+00, 0.00000000e+00,\n",
       "       0.00000000e+00, 9.38100730e-04, 3.87543253e-03, 3.87543253e-03,\n",
       "       5.53633218e-04, 0.00000000e+00, 0.00000000e+00, 0.00000000e+00,\n",
       "       0.00000000e+00, 0.00000000e+00, 0.00000000e+00, 0.00000000e+00,\n",
       "       0.00000000e+00, 0.00000000e+00, 0.00000000e+00, 2.02998847e-03,\n",
       "       3.87543253e-03, 3.69088812e-03, 1.21491734e-03, 0.00000000e+00,\n",
       "       0.00000000e+00, 0.00000000e+00, 0.00000000e+00, 0.00000000e+00,\n",
       "       0.00000000e+00, 0.00000000e+00, 0.00000000e+00, 0.00000000e+00,\n",
       "       0.00000000e+00, 1.29181084e-03, 3.87543253e-03, 3.87543253e-03,\n",
       "       5.53633218e-04, 0.00000000e+00, 0.00000000e+00, 0.00000000e+00,\n",
       "       0.00000000e+00, 0.00000000e+00, 0.00000000e+00, 0.00000000e+00,\n",
       "       0.00000000e+00, 0.00000000e+00, 0.00000000e+00, 2.02998847e-03,\n",
       "       3.87543253e-03, 3.87543253e-03, 3.66013072e-03, 7.99692426e-04,\n",
       "       0.00000000e+00, 0.00000000e+00, 0.00000000e+00, 0.00000000e+00,\n",
       "       0.00000000e+00, 0.00000000e+00, 0.00000000e+00, 0.00000000e+00,\n",
       "       1.84544406e-04, 3.04498270e-03, 3.87543253e-03, 3.87543253e-03,\n",
       "       1.87620146e-03, 0.00000000e+00, 0.00000000e+00, 0.00000000e+00,\n",
       "       0.00000000e+00, 0.00000000e+00, 0.00000000e+00, 0.00000000e+00,\n",
       "       0.00000000e+00, 0.00000000e+00, 0.00000000e+00, 1.52249135e-03,\n",
       "       3.87543253e-03, 3.87543253e-03, 3.87543253e-03, 2.78354479e-03,\n",
       "       2.61437908e-04, 0.00000000e+00, 0.00000000e+00, 0.00000000e+00,\n",
       "       0.00000000e+00, 0.00000000e+00, 0.00000000e+00, 0.00000000e+00,\n",
       "       7.53556324e-04, 3.87543253e-03, 3.87543253e-03, 3.87543253e-03,\n",
       "       1.87620146e-03, 0.00000000e+00, 0.00000000e+00, 0.00000000e+00,\n",
       "       0.00000000e+00, 0.00000000e+00, 0.00000000e+00, 0.00000000e+00,\n",
       "       0.00000000e+00, 0.00000000e+00, 0.00000000e+00, 4.61361015e-05,\n",
       "       1.92233756e-03, 3.87543253e-03, 3.87543253e-03, 3.87543253e-03,\n",
       "       1.53787005e-03, 0.00000000e+00, 0.00000000e+00, 0.00000000e+00,\n",
       "       0.00000000e+00, 0.00000000e+00, 0.00000000e+00, 0.00000000e+00,\n",
       "       3.99846213e-04, 3.35255671e-03, 3.87543253e-03, 3.87543253e-03,\n",
       "       5.53633218e-04, 0.00000000e+00, 0.00000000e+00, 0.00000000e+00,\n",
       "       0.00000000e+00, 0.00000000e+00, 0.00000000e+00, 0.00000000e+00,\n",
       "       0.00000000e+00, 0.00000000e+00, 0.00000000e+00, 0.00000000e+00,\n",
       "       2.30680507e-04, 3.32179931e-03, 3.87543253e-03, 3.87543253e-03,\n",
       "       3.18339100e-03, 2.92195309e-04, 0.00000000e+00, 0.00000000e+00,\n",
       "       0.00000000e+00, 0.00000000e+00, 0.00000000e+00, 0.00000000e+00,\n",
       "       7.53556324e-04, 3.87543253e-03, 3.87543253e-03, 3.87543253e-03,\n",
       "       5.53633218e-04, 0.00000000e+00, 0.00000000e+00, 0.00000000e+00,\n",
       "       0.00000000e+00, 0.00000000e+00, 0.00000000e+00, 0.00000000e+00,\n",
       "       0.00000000e+00, 0.00000000e+00, 0.00000000e+00, 0.00000000e+00,\n",
       "       0.00000000e+00, 2.41445598e-03, 3.87543253e-03, 3.87543253e-03,\n",
       "       3.87543253e-03, 7.38177624e-04, 0.00000000e+00, 0.00000000e+00,\n",
       "       0.00000000e+00, 9.22722030e-05, 1.67627835e-03, 1.67627835e-03,\n",
       "       2.98346790e-03, 3.87543253e-03, 3.87543253e-03, 3.87543253e-03,\n",
       "       5.53633218e-04, 0.00000000e+00, 0.00000000e+00, 0.00000000e+00,\n",
       "       0.00000000e+00, 0.00000000e+00, 0.00000000e+00, 0.00000000e+00,\n",
       "       0.00000000e+00, 0.00000000e+00, 0.00000000e+00, 0.00000000e+00,\n",
       "       0.00000000e+00, 1.53787005e-03, 3.87543253e-03, 3.87543253e-03,\n",
       "       3.87543253e-03, 1.61476355e-03, 0.00000000e+00, 8.91964629e-04,\n",
       "       1.78392926e-03, 1.96847366e-03, 3.87543253e-03, 3.87543253e-03,\n",
       "       3.87543253e-03, 3.87543253e-03, 3.87543253e-03, 3.26028451e-03,\n",
       "       2.92195309e-04, 0.00000000e+00, 0.00000000e+00, 0.00000000e+00,\n",
       "       0.00000000e+00, 0.00000000e+00, 0.00000000e+00, 0.00000000e+00,\n",
       "       0.00000000e+00, 0.00000000e+00, 0.00000000e+00, 0.00000000e+00,\n",
       "       0.00000000e+00, 0.00000000e+00, 2.52210688e-03, 3.89081123e-03,\n",
       "       3.89081123e-03, 3.89081123e-03, 3.89081123e-03, 3.89081123e-03,\n",
       "       3.89081123e-03, 3.92156863e-03, 3.89081123e-03, 3.89081123e-03,\n",
       "       3.89081123e-03, 3.89081123e-03, 3.89081123e-03, 3.89081123e-03,\n",
       "       1.52249135e-03, 0.00000000e+00, 0.00000000e+00, 0.00000000e+00,\n",
       "       0.00000000e+00, 0.00000000e+00, 0.00000000e+00, 0.00000000e+00,\n",
       "       0.00000000e+00, 0.00000000e+00, 0.00000000e+00, 0.00000000e+00,\n",
       "       0.00000000e+00, 0.00000000e+00, 7.53556324e-04, 3.87543253e-03,\n",
       "       3.87543253e-03, 3.87543253e-03, 3.87543253e-03, 3.87543253e-03,\n",
       "       3.87543253e-03, 3.89081123e-03, 3.87543253e-03, 3.87543253e-03,\n",
       "       3.87543253e-03, 3.87543253e-03, 3.87543253e-03, 3.87543253e-03,\n",
       "       2.38369858e-03, 0.00000000e+00, 0.00000000e+00, 0.00000000e+00,\n",
       "       0.00000000e+00, 0.00000000e+00, 0.00000000e+00, 0.00000000e+00,\n",
       "       0.00000000e+00, 0.00000000e+00, 0.00000000e+00, 0.00000000e+00,\n",
       "       0.00000000e+00, 0.00000000e+00, 7.53556324e-04, 3.87543253e-03,\n",
       "       3.87543253e-03, 3.87543253e-03, 3.87543253e-03, 3.87543253e-03,\n",
       "       3.87543253e-03, 3.33717801e-03, 3.32179931e-03, 2.16839677e-03,\n",
       "       1.93771626e-03, 3.87543253e-03, 3.87543253e-03, 3.87543253e-03,\n",
       "       2.38369858e-03, 0.00000000e+00, 0.00000000e+00, 0.00000000e+00,\n",
       "       0.00000000e+00, 0.00000000e+00, 0.00000000e+00, 0.00000000e+00,\n",
       "       0.00000000e+00, 0.00000000e+00, 0.00000000e+00, 0.00000000e+00,\n",
       "       0.00000000e+00, 0.00000000e+00, 7.53556324e-04, 3.87543253e-03,\n",
       "       3.87543253e-03, 3.87543253e-03, 3.59861592e-03, 3.13725490e-03,\n",
       "       1.36870434e-03, 0.00000000e+00, 0.00000000e+00, 0.00000000e+00,\n",
       "       7.53556324e-04, 3.87543253e-03, 3.87543253e-03, 3.87543253e-03,\n",
       "       2.38369858e-03, 0.00000000e+00, 0.00000000e+00, 0.00000000e+00,\n",
       "       0.00000000e+00, 0.00000000e+00, 0.00000000e+00, 0.00000000e+00,\n",
       "       0.00000000e+00, 0.00000000e+00, 0.00000000e+00, 0.00000000e+00,\n",
       "       0.00000000e+00, 0.00000000e+00, 2.15301807e-04, 2.42983468e-03,\n",
       "       2.95271050e-03, 2.32218378e-03, 6.92041522e-04, 0.00000000e+00,\n",
       "       0.00000000e+00, 0.00000000e+00, 0.00000000e+00, 0.00000000e+00,\n",
       "       7.53556324e-04, 3.87543253e-03, 3.87543253e-03, 3.87543253e-03,\n",
       "       3.46020761e-03, 2.61437908e-04, 0.00000000e+00, 0.00000000e+00,\n",
       "       0.00000000e+00, 0.00000000e+00, 0.00000000e+00, 0.00000000e+00,\n",
       "       0.00000000e+00, 0.00000000e+00, 0.00000000e+00, 0.00000000e+00,\n",
       "       0.00000000e+00, 0.00000000e+00, 0.00000000e+00, 0.00000000e+00,\n",
       "       0.00000000e+00, 0.00000000e+00, 0.00000000e+00, 0.00000000e+00,\n",
       "       0.00000000e+00, 0.00000000e+00, 0.00000000e+00, 0.00000000e+00,\n",
       "       7.53556324e-04, 3.87543253e-03, 3.87543253e-03, 3.87543253e-03,\n",
       "       3.87543253e-03, 3.53710111e-04, 0.00000000e+00, 0.00000000e+00,\n",
       "       0.00000000e+00, 0.00000000e+00, 0.00000000e+00, 0.00000000e+00,\n",
       "       0.00000000e+00, 0.00000000e+00, 0.00000000e+00, 0.00000000e+00,\n",
       "       0.00000000e+00, 0.00000000e+00, 0.00000000e+00, 0.00000000e+00,\n",
       "       0.00000000e+00, 0.00000000e+00, 0.00000000e+00, 0.00000000e+00,\n",
       "       0.00000000e+00, 0.00000000e+00, 0.00000000e+00, 0.00000000e+00,\n",
       "       5.07497116e-04, 3.50634371e-03, 3.87543253e-03, 3.87543253e-03,\n",
       "       3.87543253e-03, 2.41445598e-03, 6.15148020e-05, 0.00000000e+00,\n",
       "       0.00000000e+00, 0.00000000e+00, 0.00000000e+00, 0.00000000e+00,\n",
       "       0.00000000e+00, 0.00000000e+00, 0.00000000e+00, 0.00000000e+00,\n",
       "       0.00000000e+00, 0.00000000e+00, 0.00000000e+00, 0.00000000e+00,\n",
       "       0.00000000e+00, 0.00000000e+00, 0.00000000e+00, 0.00000000e+00,\n",
       "       0.00000000e+00, 0.00000000e+00, 0.00000000e+00, 0.00000000e+00,\n",
       "       0.00000000e+00, 8.45828527e-04, 3.52172241e-03, 3.87543253e-03,\n",
       "       3.87543253e-03, 3.87543253e-03, 1.69165705e-04, 0.00000000e+00,\n",
       "       0.00000000e+00, 0.00000000e+00, 0.00000000e+00, 0.00000000e+00,\n",
       "       0.00000000e+00, 0.00000000e+00, 0.00000000e+00, 0.00000000e+00,\n",
       "       0.00000000e+00, 0.00000000e+00, 0.00000000e+00, 0.00000000e+00,\n",
       "       0.00000000e+00, 0.00000000e+00, 0.00000000e+00, 0.00000000e+00,\n",
       "       0.00000000e+00, 0.00000000e+00, 0.00000000e+00, 0.00000000e+00,\n",
       "       0.00000000e+00, 0.00000000e+00, 8.15071126e-04, 3.56785852e-03,\n",
       "       3.87543253e-03, 3.87543253e-03, 9.68858131e-04, 0.00000000e+00,\n",
       "       0.00000000e+00, 0.00000000e+00, 0.00000000e+00, 0.00000000e+00,\n",
       "       0.00000000e+00, 0.00000000e+00, 0.00000000e+00, 0.00000000e+00,\n",
       "       0.00000000e+00, 0.00000000e+00, 0.00000000e+00, 0.00000000e+00,\n",
       "       0.00000000e+00, 0.00000000e+00, 0.00000000e+00, 0.00000000e+00,\n",
       "       0.00000000e+00, 0.00000000e+00, 0.00000000e+00, 0.00000000e+00,\n",
       "       0.00000000e+00, 0.00000000e+00, 0.00000000e+00, 1.38408304e-03,\n",
       "       3.16801230e-03, 2.01460977e-03, 1.69165705e-04, 0.00000000e+00,\n",
       "       0.00000000e+00, 0.00000000e+00, 0.00000000e+00, 0.00000000e+00,\n",
       "       0.00000000e+00, 0.00000000e+00, 0.00000000e+00, 0.00000000e+00,\n",
       "       0.00000000e+00, 0.00000000e+00, 0.00000000e+00, 0.00000000e+00,\n",
       "       0.00000000e+00, 0.00000000e+00, 0.00000000e+00, 0.00000000e+00,\n",
       "       0.00000000e+00, 0.00000000e+00, 0.00000000e+00, 0.00000000e+00,\n",
       "       0.00000000e+00, 0.00000000e+00, 0.00000000e+00, 0.00000000e+00,\n",
       "       0.00000000e+00, 0.00000000e+00, 0.00000000e+00, 0.00000000e+00,\n",
       "       0.00000000e+00, 0.00000000e+00, 0.00000000e+00, 0.00000000e+00,\n",
       "       0.00000000e+00, 0.00000000e+00, 0.00000000e+00, 0.00000000e+00,\n",
       "       0.00000000e+00, 0.00000000e+00, 0.00000000e+00, 0.00000000e+00,\n",
       "       0.00000000e+00, 0.00000000e+00, 0.00000000e+00, 0.00000000e+00,\n",
       "       0.00000000e+00, 0.00000000e+00, 0.00000000e+00, 0.00000000e+00,\n",
       "       0.00000000e+00, 0.00000000e+00, 0.00000000e+00, 0.00000000e+00,\n",
       "       0.00000000e+00, 0.00000000e+00, 0.00000000e+00, 0.00000000e+00,\n",
       "       0.00000000e+00, 0.00000000e+00, 0.00000000e+00, 0.00000000e+00,\n",
       "       0.00000000e+00, 0.00000000e+00, 0.00000000e+00, 0.00000000e+00,\n",
       "       0.00000000e+00, 0.00000000e+00, 0.00000000e+00, 0.00000000e+00,\n",
       "       0.00000000e+00, 0.00000000e+00, 0.00000000e+00, 0.00000000e+00,\n",
       "       0.00000000e+00, 0.00000000e+00, 0.00000000e+00, 0.00000000e+00,\n",
       "       0.00000000e+00, 0.00000000e+00, 0.00000000e+00, 0.00000000e+00,\n",
       "       0.00000000e+00, 0.00000000e+00, 0.00000000e+00, 0.00000000e+00,\n",
       "       0.00000000e+00, 0.00000000e+00, 0.00000000e+00, 0.00000000e+00,\n",
       "       0.00000000e+00, 0.00000000e+00, 0.00000000e+00, 0.00000000e+00,\n",
       "       0.00000000e+00, 0.00000000e+00, 0.00000000e+00, 0.00000000e+00,\n",
       "       0.00000000e+00, 0.00000000e+00, 0.00000000e+00, 0.00000000e+00,\n",
       "       0.00000000e+00, 0.00000000e+00, 0.00000000e+00, 0.00000000e+00,\n",
       "       0.00000000e+00, 0.00000000e+00, 0.00000000e+00, 0.00000000e+00,\n",
       "       0.00000000e+00, 0.00000000e+00, 0.00000000e+00, 0.00000000e+00,\n",
       "       0.00000000e+00, 0.00000000e+00, 0.00000000e+00, 0.00000000e+00])"
      ]
     },
     "execution_count": 15,
     "metadata": {},
     "output_type": "execute_result"
    }
   ],
   "source": [
    "#An example datapoint after Normalising\n",
    "X_train[20]"
   ]
  },
  {
   "cell_type": "code",
   "execution_count": 16,
   "metadata": {
    "id": "LJw7hZoyG7hY"
   },
   "outputs": [],
   "source": [
    "from tensorflow.keras.models import Sequential \n",
    "from tensorflow.keras.layers import Dense, Activation \n",
    "from tensorflow.keras.layers import BatchNormalization\n",
    "from tensorflow.keras.layers import Dropout"
   ]
  },
  {
   "cell_type": "code",
   "execution_count": 17,
   "metadata": {
    "id": "NAu17IYIR_2F"
   },
   "outputs": [],
   "source": [
    "output_dim = 10\n",
    "input_dim = X_train.shape[1]\n",
    "\n",
    "batch_size = 128 \n",
    "nb_epoch = 40"
   ]
  },
  {
   "cell_type": "markdown",
   "metadata": {
    "id": "h1TLPESNmgVT"
   },
   "source": [
    "#1. MLP with 3 hidden layers"
   ]
  },
  {
   "cell_type": "code",
   "execution_count": 18,
   "metadata": {
    "colab": {
     "base_uri": "https://localhost:8080/"
    },
    "id": "iS8xysk7R_5D",
    "outputId": "8253b20a-fe42-4181-f908-96a1ae511e62"
   },
   "outputs": [
    {
     "name": "stdout",
     "output_type": "stream",
     "text": [
      "Model: \"sequential\"\n",
      "_________________________________________________________________\n",
      " Layer (type)                Output Shape              Param #   \n",
      "=================================================================\n",
      " dense (Dense)               (None, 512)               401920    \n",
      "                                                                 \n",
      " batch_normalization (BatchN  (None, 512)              2048      \n",
      " ormalization)                                                   \n",
      "                                                                 \n",
      " dense_1 (Dense)             (None, 256)               131328    \n",
      "                                                                 \n",
      " batch_normalization_1 (Batc  (None, 256)              1024      \n",
      " hNormalization)                                                 \n",
      "                                                                 \n",
      " dropout (Dropout)           (None, 256)               0         \n",
      "                                                                 \n",
      " dense_2 (Dense)             (None, 128)               32896     \n",
      "                                                                 \n",
      " batch_normalization_2 (Batc  (None, 128)              512       \n",
      " hNormalization)                                                 \n",
      "                                                                 \n",
      " dense_3 (Dense)             (None, 10)                1290      \n",
      "                                                                 \n",
      "=================================================================\n",
      "Total params: 571,018\n",
      "Trainable params: 569,226\n",
      "Non-trainable params: 1,792\n",
      "_________________________________________________________________\n"
     ]
    }
   ],
   "source": [
    "model_1 = Sequential()\n",
    "\n",
    "\n",
    "model_1.add(Dense(512, activation='relu', input_shape=(input_dim,), kernel_initializer=he_normal(seed=None)))\n",
    "model_1.add(BatchNormalization())\n",
    "#model_1.add(Dropout(0.70))\n",
    "\n",
    "model_1.add(Dense(256, activation='relu', kernel_initializer=he_normal(seed=None)) )\n",
    "model_1.add(BatchNormalization())\n",
    "model_1.add(Dropout(0.60))\n",
    "\n",
    "model_1.add(Dense(128, activation='relu', kernel_initializer=he_normal(seed=None)) )\n",
    "model_1.add(BatchNormalization())\n",
    "#model_1.add(Dropout(0.70))\n",
    "\n",
    "model_1.add(Dense(output_dim, activation='softmax'))\n",
    "\n",
    "\n",
    "model_1.summary()"
   ]
  },
  {
   "cell_type": "code",
   "execution_count": 19,
   "metadata": {
    "colab": {
     "base_uri": "https://localhost:8080/"
    },
    "id": "vp6-_Af8oa1g",
    "outputId": "913dca5d-b47a-4b4e-f765-551ffc0444bc"
   },
   "outputs": [
    {
     "name": "stdout",
     "output_type": "stream",
     "text": [
      "Epoch 1/40\n",
      "469/469 [==============================] - 11s 10ms/step - loss: 0.3511 - accuracy: 0.8928 - val_loss: 2.1303 - val_accuracy: 0.1774\n",
      "Epoch 2/40\n",
      "469/469 [==============================] - 3s 6ms/step - loss: 0.1994 - accuracy: 0.9393 - val_loss: 0.1147 - val_accuracy: 0.9641\n",
      "Epoch 3/40\n",
      "469/469 [==============================] - 3s 5ms/step - loss: 0.1625 - accuracy: 0.9503 - val_loss: 0.1195 - val_accuracy: 0.9612\n",
      "Epoch 4/40\n",
      "469/469 [==============================] - 3s 5ms/step - loss: 0.1477 - accuracy: 0.9548 - val_loss: 0.1034 - val_accuracy: 0.9671\n",
      "Epoch 5/40\n",
      "469/469 [==============================] - 3s 5ms/step - loss: 0.1302 - accuracy: 0.9593 - val_loss: 0.0923 - val_accuracy: 0.9723\n",
      "Epoch 6/40\n",
      "469/469 [==============================] - 3s 5ms/step - loss: 0.1218 - accuracy: 0.9623 - val_loss: 0.1036 - val_accuracy: 0.9688\n",
      "Epoch 7/40\n",
      "469/469 [==============================] - 2s 5ms/step - loss: 0.1133 - accuracy: 0.9641 - val_loss: 0.0780 - val_accuracy: 0.9753\n",
      "Epoch 8/40\n",
      "469/469 [==============================] - 3s 5ms/step - loss: 0.1062 - accuracy: 0.9667 - val_loss: 0.0887 - val_accuracy: 0.9733\n",
      "Epoch 9/40\n",
      "469/469 [==============================] - 2s 5ms/step - loss: 0.1042 - accuracy: 0.9670 - val_loss: 0.0877 - val_accuracy: 0.9727\n",
      "Epoch 10/40\n",
      "469/469 [==============================] - 2s 5ms/step - loss: 0.0969 - accuracy: 0.9693 - val_loss: 0.0809 - val_accuracy: 0.9738\n",
      "Epoch 11/40\n",
      "469/469 [==============================] - 3s 5ms/step - loss: 0.0917 - accuracy: 0.9704 - val_loss: 0.0934 - val_accuracy: 0.9730\n",
      "Epoch 12/40\n",
      "469/469 [==============================] - 3s 5ms/step - loss: 0.0888 - accuracy: 0.9717 - val_loss: 0.0870 - val_accuracy: 0.9738\n",
      "Epoch 13/40\n",
      "469/469 [==============================] - 2s 5ms/step - loss: 0.0880 - accuracy: 0.9717 - val_loss: 0.0752 - val_accuracy: 0.9780\n",
      "Epoch 14/40\n",
      "469/469 [==============================] - 3s 5ms/step - loss: 0.0838 - accuracy: 0.9731 - val_loss: 0.0736 - val_accuracy: 0.9772\n",
      "Epoch 15/40\n",
      "469/469 [==============================] - 3s 5ms/step - loss: 0.0817 - accuracy: 0.9740 - val_loss: 0.0807 - val_accuracy: 0.9739\n",
      "Epoch 16/40\n",
      "469/469 [==============================] - 2s 5ms/step - loss: 0.0795 - accuracy: 0.9745 - val_loss: 0.0707 - val_accuracy: 0.9787\n",
      "Epoch 17/40\n",
      "469/469 [==============================] - 3s 6ms/step - loss: 0.0795 - accuracy: 0.9742 - val_loss: 0.0793 - val_accuracy: 0.9745\n",
      "Epoch 18/40\n",
      "469/469 [==============================] - 2s 5ms/step - loss: 0.0757 - accuracy: 0.9753 - val_loss: 0.0838 - val_accuracy: 0.9731\n",
      "Epoch 19/40\n",
      "469/469 [==============================] - 2s 5ms/step - loss: 0.0711 - accuracy: 0.9768 - val_loss: 0.0742 - val_accuracy: 0.9776\n",
      "Epoch 20/40\n",
      "469/469 [==============================] - 3s 6ms/step - loss: 0.0719 - accuracy: 0.9768 - val_loss: 0.0780 - val_accuracy: 0.9768\n",
      "Epoch 21/40\n",
      "469/469 [==============================] - 3s 6ms/step - loss: 0.0700 - accuracy: 0.9774 - val_loss: 0.0682 - val_accuracy: 0.9788\n",
      "Epoch 22/40\n",
      "469/469 [==============================] - 2s 5ms/step - loss: 0.0658 - accuracy: 0.9780 - val_loss: 0.0607 - val_accuracy: 0.9813\n",
      "Epoch 23/40\n",
      "469/469 [==============================] - 2s 5ms/step - loss: 0.0648 - accuracy: 0.9785 - val_loss: 0.0685 - val_accuracy: 0.9782\n",
      "Epoch 24/40\n",
      "469/469 [==============================] - 3s 6ms/step - loss: 0.0636 - accuracy: 0.9789 - val_loss: 0.0730 - val_accuracy: 0.9793\n",
      "Epoch 25/40\n",
      "469/469 [==============================] - 3s 5ms/step - loss: 0.0620 - accuracy: 0.9800 - val_loss: 0.0743 - val_accuracy: 0.9775\n",
      "Epoch 26/40\n",
      "469/469 [==============================] - 2s 5ms/step - loss: 0.0615 - accuracy: 0.9794 - val_loss: 0.0770 - val_accuracy: 0.9773\n",
      "Epoch 27/40\n",
      "469/469 [==============================] - 3s 5ms/step - loss: 0.0630 - accuracy: 0.9796 - val_loss: 0.0708 - val_accuracy: 0.9803\n",
      "Epoch 28/40\n",
      "469/469 [==============================] - 2s 5ms/step - loss: 0.0620 - accuracy: 0.9798 - val_loss: 0.0672 - val_accuracy: 0.9797\n",
      "Epoch 29/40\n",
      "469/469 [==============================] - 2s 5ms/step - loss: 0.0569 - accuracy: 0.9807 - val_loss: 0.0660 - val_accuracy: 0.9807\n",
      "Epoch 30/40\n",
      "469/469 [==============================] - 2s 5ms/step - loss: 0.0560 - accuracy: 0.9815 - val_loss: 0.0755 - val_accuracy: 0.9778\n",
      "Epoch 31/40\n",
      "469/469 [==============================] - 3s 5ms/step - loss: 0.0552 - accuracy: 0.9818 - val_loss: 0.0696 - val_accuracy: 0.9801\n",
      "Epoch 32/40\n",
      "469/469 [==============================] - 2s 5ms/step - loss: 0.0552 - accuracy: 0.9818 - val_loss: 0.0761 - val_accuracy: 0.9766\n",
      "Epoch 33/40\n",
      "469/469 [==============================] - 2s 5ms/step - loss: 0.0527 - accuracy: 0.9827 - val_loss: 0.0680 - val_accuracy: 0.9808\n",
      "Epoch 34/40\n",
      "469/469 [==============================] - 2s 5ms/step - loss: 0.0534 - accuracy: 0.9825 - val_loss: 0.0794 - val_accuracy: 0.9763\n",
      "Epoch 35/40\n",
      "469/469 [==============================] - 2s 5ms/step - loss: 0.0536 - accuracy: 0.9822 - val_loss: 0.0626 - val_accuracy: 0.9801\n",
      "Epoch 36/40\n",
      "469/469 [==============================] - 2s 5ms/step - loss: 0.0523 - accuracy: 0.9824 - val_loss: 0.0728 - val_accuracy: 0.9802\n",
      "Epoch 37/40\n",
      "469/469 [==============================] - 3s 5ms/step - loss: 0.0515 - accuracy: 0.9832 - val_loss: 0.0700 - val_accuracy: 0.9798\n",
      "Epoch 38/40\n",
      "469/469 [==============================] - 3s 6ms/step - loss: 0.0506 - accuracy: 0.9837 - val_loss: 0.0772 - val_accuracy: 0.9771\n",
      "Epoch 39/40\n",
      "469/469 [==============================] - 3s 6ms/step - loss: 0.0486 - accuracy: 0.9840 - val_loss: 0.0699 - val_accuracy: 0.9800\n",
      "Epoch 40/40\n",
      "469/469 [==============================] - 3s 6ms/step - loss: 0.0521 - accuracy: 0.9827 - val_loss: 0.0692 - val_accuracy: 0.9808\n"
     ]
    }
   ],
   "source": [
    "model_1.compile(optimizer='adam', loss='categorical_crossentropy', metrics=['accuracy'])\n",
    "\n",
    "history = model_1.fit(X_train, y_train, batch_size=batch_size, epochs=nb_epoch, verbose=1, validation_data=(X_test, y_test))"
   ]
  },
  {
   "cell_type": "code",
   "execution_count": 20,
   "metadata": {
    "colab": {
     "base_uri": "https://localhost:8080/",
     "height": 314
    },
    "id": "TMDniJoaSAGL",
    "outputId": "55bc5f61-b2c3-4948-d298-dec61bed57b8"
   },
   "outputs": [
    {
     "name": "stdout",
     "output_type": "stream",
     "text": [
      "Test score: 0.06918569654226303\n",
      "Test accuracy: 0.9807999730110168\n"
     ]
    },
    {
     "data": {
      "image/png": "[encoded data removed]",
      "text/plain": [
       "<Figure size 432x288 with 1 Axes>"
      ]
     },
     "metadata": {
      "needs_background": "light"
     },
     "output_type": "display_data"
    }
   ],
   "source": [
    "score = model_1.evaluate(X_test, y_test, verbose=0) \n",
    "print('Test score:', score[0]) \n",
    "print('Test accuracy:', score[1])\n",
    "\n",
    "fig,ax = plt.subplots(1,1)\n",
    "ax.set_xlabel('epoch') ; ax.set_ylabel('Categorical Crossentropy Loss')\n",
    "\n",
    "# list of epoch numbers\n",
    "x = list(range(1,nb_epoch+1))\n",
    "\n",
    "\n",
    "vy = history.history['val_loss']\n",
    "ty = history.history['loss']\n",
    "plt_dynamic(x, vy, ty, ax)"
   ]
  },
  {
   "cell_type": "code",
   "execution_count": 21,
   "metadata": {
    "colab": {
     "base_uri": "https://localhost:8080/",
     "height": 285
    },
    "id": "dj6-p9XYSAIz",
    "outputId": "1140e1e2-458b-471c-c56e-ddaaab131d9c"
   },
   "outputs": [
    {
     "data": {
      "image/png": "[encoded data removed]",
      "text/plain": [
       "<Figure size 432x288 with 3 Axes>"
      ]
     },
     "metadata": {
      "needs_background": "light"
     },
     "output_type": "display_data"
    }
   ],
   "source": [
    "w_after = model_1.get_weights()\n",
    "\n",
    "h1_w = w_after[0].flatten().reshape(-1,1)\n",
    "h2_w = w_after[2].flatten().reshape(-1,1)\n",
    "out_w = w_after[4].flatten().reshape(-1,1)\n",
    "\n",
    "\n",
    "fig = plt.figure()\n",
    "plt.title(\"Weight matrices after model trained\")\n",
    "plt.subplot(1, 3, 1)\n",
    "plt.title(\"Trained model Weights\")\n",
    "ax = sns.violinplot(y=h1_w,color='b')\n",
    "plt.xlabel('Hidden Layer 1')\n",
    "\n",
    "plt.subplot(1, 3, 2)\n",
    "plt.title(\"Trained model Weights\")\n",
    "ax = sns.violinplot(y=h2_w, color='r')\n",
    "plt.xlabel('Hidden Layer 2 ')\n",
    "\n",
    "plt.subplot(1, 3, 3)\n",
    "plt.title(\"Trained model Weights\")\n",
    "ax = sns.violinplot(y=out_w,color='y')\n",
    "plt.xlabel('Output Layer ')\n",
    "plt.show()"
   ]
  },
  {
   "cell_type": "markdown",
   "metadata": {
    "id": "jR-lHPZFmxVa"
   },
   "source": [
    "#2. MLP with 5 hidden layers"
   ]
  },
  {
   "cell_type": "code",
   "execution_count": 22,
   "metadata": {
    "id": "HwgfsTtPwaSX"
   },
   "outputs": [],
   "source": [
    "model_2 = Sequential()\n",
    "\n",
    "model_2.add(Dense(512, activation='relu', input_shape=(input_dim,), kernel_initializer=he_normal(seed=None)) )\n",
    "model_2.add(BatchNormalization())\n",
    "#model_2.add(Dropout(0.70))\n",
    "\n",
    "model_2.add(Dense(412, activation='relu', kernel_initializer=he_normal(seed=None)) )\n",
    "model_2.add(BatchNormalization())\n",
    "#model_2.add(Dropout(0.70))\n",
    "\n",
    "model_2.add(Dense(312, activation='relu', kernel_initializer=he_normal(seed=None)) )\n",
    "model_2.add(BatchNormalization())\n",
    "model_2.add(Dropout(0.70))\n",
    "\n",
    "model_2.add(Dense(214, activation='relu', kernel_initializer=he_normal(seed=None)) )\n",
    "model_2.add(BatchNormalization())\n",
    "model_2.add(Dropout(0.70))\n",
    "\n",
    "model_2.add(Dense(124, activation='relu', kernel_initializer=he_normal(seed=None)) )\n",
    "model_2.add(BatchNormalization())\n",
    "model_2.add(Dropout(0.70))\n",
    "\n",
    "model_2.add(Dense(42, activation='relu', kernel_initializer=he_normal(seed=None)) )\n",
    "model_2.add(BatchNormalization())\n",
    "#model_2.add(Dropout(0.80))\n",
    "\n",
    "model_2.add(Dense(output_dim, activation='softmax'))"
   ]
  },
  {
   "cell_type": "code",
   "execution_count": 23,
   "metadata": {
    "colab": {
     "base_uri": "https://localhost:8080/"
    },
    "id": "WgWWYO6xwabM",
    "outputId": "11899a3c-c0bf-4554-c99a-875d0f4fd355"
   },
   "outputs": [
    {
     "name": "stdout",
     "output_type": "stream",
     "text": [
      "Epoch 1/40\n",
      "469/469 [==============================] - 5s 8ms/step - loss: 1.1437 - accuracy: 0.6262 - val_loss: 3.5854 - val_accuracy: 0.1340\n",
      "Epoch 2/40\n",
      "469/469 [==============================] - 4s 8ms/step - loss: 0.3891 - accuracy: 0.8932 - val_loss: 0.2173 - val_accuracy: 0.9377\n",
      "Epoch 3/40\n",
      "469/469 [==============================] - 4s 8ms/step - loss: 0.2561 - accuracy: 0.9325 - val_loss: 0.1438 - val_accuracy: 0.9616\n",
      "Epoch 4/40\n",
      "469/469 [==============================] - 4s 8ms/step - loss: 0.2061 - accuracy: 0.9468 - val_loss: 0.1187 - val_accuracy: 0.9711\n",
      "Epoch 5/40\n",
      "469/469 [==============================] - 4s 8ms/step - loss: 0.1698 - accuracy: 0.9559 - val_loss: 0.1195 - val_accuracy: 0.9703\n",
      "Epoch 6/40\n",
      "469/469 [==============================] - 4s 7ms/step - loss: 0.1523 - accuracy: 0.9617 - val_loss: 0.1125 - val_accuracy: 0.9712\n",
      "Epoch 7/40\n",
      "469/469 [==============================] - 4s 8ms/step - loss: 0.1329 - accuracy: 0.9657 - val_loss: 0.1245 - val_accuracy: 0.9694\n",
      "Epoch 8/40\n",
      "469/469 [==============================] - 4s 8ms/step - loss: 0.1208 - accuracy: 0.9698 - val_loss: 0.1076 - val_accuracy: 0.9734\n",
      "Epoch 9/40\n",
      "469/469 [==============================] - 4s 7ms/step - loss: 0.1153 - accuracy: 0.9706 - val_loss: 0.1217 - val_accuracy: 0.9720\n",
      "Epoch 10/40\n",
      "469/469 [==============================] - 4s 8ms/step - loss: 0.1062 - accuracy: 0.9729 - val_loss: 0.1092 - val_accuracy: 0.9737\n",
      "Epoch 11/40\n",
      "469/469 [==============================] - 4s 8ms/step - loss: 0.1014 - accuracy: 0.9746 - val_loss: 0.0924 - val_accuracy: 0.9773\n",
      "Epoch 12/40\n",
      "469/469 [==============================] - 4s 8ms/step - loss: 0.0961 - accuracy: 0.9757 - val_loss: 0.1102 - val_accuracy: 0.9741\n",
      "Epoch 13/40\n",
      "469/469 [==============================] - 4s 8ms/step - loss: 0.0897 - accuracy: 0.9767 - val_loss: 0.1262 - val_accuracy: 0.9718\n",
      "Epoch 14/40\n",
      "469/469 [==============================] - 4s 8ms/step - loss: 0.0857 - accuracy: 0.9779 - val_loss: 0.1134 - val_accuracy: 0.9734\n",
      "Epoch 15/40\n",
      "469/469 [==============================] - 4s 8ms/step - loss: 0.0803 - accuracy: 0.9804 - val_loss: 0.1184 - val_accuracy: 0.9738\n",
      "Epoch 16/40\n",
      "469/469 [==============================] - 4s 8ms/step - loss: 0.0777 - accuracy: 0.9802 - val_loss: 0.1204 - val_accuracy: 0.9738\n",
      "Epoch 17/40\n",
      "469/469 [==============================] - 4s 8ms/step - loss: 0.0729 - accuracy: 0.9819 - val_loss: 0.0922 - val_accuracy: 0.9792\n",
      "Epoch 18/40\n",
      "469/469 [==============================] - 4s 8ms/step - loss: 0.0697 - accuracy: 0.9825 - val_loss: 0.1103 - val_accuracy: 0.9755\n",
      "Epoch 19/40\n",
      "469/469 [==============================] - 4s 8ms/step - loss: 0.0700 - accuracy: 0.9819 - val_loss: 0.1036 - val_accuracy: 0.9772\n",
      "Epoch 20/40\n",
      "469/469 [==============================] - 4s 8ms/step - loss: 0.0652 - accuracy: 0.9836 - val_loss: 0.1014 - val_accuracy: 0.9772\n",
      "Epoch 21/40\n",
      "469/469 [==============================] - 3s 7ms/step - loss: 0.0593 - accuracy: 0.9848 - val_loss: 0.0975 - val_accuracy: 0.9782\n",
      "Epoch 22/40\n",
      "469/469 [==============================] - 4s 7ms/step - loss: 0.0590 - accuracy: 0.9847 - val_loss: 0.1325 - val_accuracy: 0.9715\n",
      "Epoch 23/40\n",
      "469/469 [==============================] - 4s 8ms/step - loss: 0.0604 - accuracy: 0.9845 - val_loss: 0.0992 - val_accuracy: 0.9784\n",
      "Epoch 24/40\n",
      "469/469 [==============================] - 4s 9ms/step - loss: 0.0535 - accuracy: 0.9859 - val_loss: 0.0938 - val_accuracy: 0.9788\n",
      "Epoch 25/40\n",
      "469/469 [==============================] - 4s 8ms/step - loss: 0.0529 - accuracy: 0.9863 - val_loss: 0.1065 - val_accuracy: 0.9767\n",
      "Epoch 26/40\n",
      "469/469 [==============================] - 4s 8ms/step - loss: 0.0511 - accuracy: 0.9864 - val_loss: 0.0996 - val_accuracy: 0.9804\n",
      "Epoch 27/40\n",
      "469/469 [==============================] - 4s 8ms/step - loss: 0.0511 - accuracy: 0.9866 - val_loss: 0.1031 - val_accuracy: 0.9784\n",
      "Epoch 28/40\n",
      "469/469 [==============================] - 4s 8ms/step - loss: 0.0476 - accuracy: 0.9877 - val_loss: 0.0955 - val_accuracy: 0.9807\n",
      "Epoch 29/40\n",
      "469/469 [==============================] - 4s 8ms/step - loss: 0.0456 - accuracy: 0.9880 - val_loss: 0.1022 - val_accuracy: 0.9786\n",
      "Epoch 30/40\n",
      "469/469 [==============================] - 4s 8ms/step - loss: 0.0479 - accuracy: 0.9877 - val_loss: 0.0936 - val_accuracy: 0.9801\n",
      "Epoch 31/40\n",
      "469/469 [==============================] - 4s 8ms/step - loss: 0.0453 - accuracy: 0.9881 - val_loss: 0.0962 - val_accuracy: 0.9804\n",
      "Epoch 32/40\n",
      "469/469 [==============================] - 4s 8ms/step - loss: 0.0413 - accuracy: 0.9893 - val_loss: 0.1004 - val_accuracy: 0.9785\n",
      "Epoch 33/40\n",
      "469/469 [==============================] - 4s 8ms/step - loss: 0.0386 - accuracy: 0.9901 - val_loss: 0.0910 - val_accuracy: 0.9822\n",
      "Epoch 34/40\n",
      "469/469 [==============================] - 4s 8ms/step - loss: 0.0425 - accuracy: 0.9886 - val_loss: 0.0972 - val_accuracy: 0.9802\n",
      "Epoch 35/40\n",
      "469/469 [==============================] - 4s 8ms/step - loss: 0.0408 - accuracy: 0.9896 - val_loss: 0.0899 - val_accuracy: 0.9823\n",
      "Epoch 36/40\n",
      "469/469 [==============================] - 4s 8ms/step - loss: 0.0372 - accuracy: 0.9905 - val_loss: 0.0869 - val_accuracy: 0.9820\n",
      "Epoch 37/40\n",
      "469/469 [==============================] - 4s 8ms/step - loss: 0.0385 - accuracy: 0.9903 - val_loss: 0.1004 - val_accuracy: 0.9798\n",
      "Epoch 38/40\n",
      "469/469 [==============================] - 4s 8ms/step - loss: 0.0367 - accuracy: 0.9901 - val_loss: 0.0941 - val_accuracy: 0.9798\n",
      "Epoch 39/40\n",
      "469/469 [==============================] - 4s 8ms/step - loss: 0.0358 - accuracy: 0.9904 - val_loss: 0.0873 - val_accuracy: 0.9813\n",
      "Epoch 40/40\n",
      "469/469 [==============================] - 4s 8ms/step - loss: 0.0344 - accuracy: 0.9908 - val_loss: 0.1054 - val_accuracy: 0.9792\n"
     ]
    }
   ],
   "source": [
    "model_2.compile(optimizer='adam', loss='categorical_crossentropy', metrics=['accuracy'])\n",
    "\n",
    "history = model_2.fit(X_train, y_train, batch_size=batch_size, epochs=nb_epoch, verbose=1, validation_data=(X_test, y_test))"
   ]
  },
  {
   "cell_type": "code",
   "execution_count": 24,
   "metadata": {
    "colab": {
     "base_uri": "https://localhost:8080/",
     "height": 314
    },
    "id": "mbE-OpFAwad3",
    "outputId": "826e8404-ea1f-4bcf-b38a-d5fc3164c1de"
   },
   "outputs": [
    {
     "name": "stdout",
     "output_type": "stream",
     "text": [
      "Test score: 0.10544922202825546\n",
      "Test accuracy: 0.979200005531311\n"
     ]
    },
    {
     "data": {
      "image/png": "[encoded data removed]",
      "text/plain": [
       "<Figure size 432x288 with 1 Axes>"
      ]
     },
     "metadata": {
      "needs_background": "light"
     },
     "output_type": "display_data"
    }
   ],
   "source": [
    "score = model_2.evaluate(X_test, y_test, verbose=0) \n",
    "print('Test score:', score[0]) \n",
    "print('Test accuracy:', score[1])\n",
    "\n",
    "fig,ax = plt.subplots(1,1)\n",
    "ax.set_xlabel('epoch') ; ax.set_ylabel('Categorical Crossentropy Loss')\n",
    "\n",
    "# list of epoch numbers\n",
    "x = list(range(1,nb_epoch+1))\n",
    "\n",
    "vy = history.history['val_loss']\n",
    "ty = history.history['loss']\n",
    "plt_dynamic(x, vy, ty, ax)"
   ]
  },
  {
   "cell_type": "code",
   "execution_count": 25,
   "metadata": {
    "colab": {
     "base_uri": "https://localhost:8080/",
     "height": 612
    },
    "id": "BWvS4bOyyxUu",
    "outputId": "ed207419-3f55-4609-b43d-e941144473e0"
   },
   "outputs": [
    {
     "data": {
      "image/png": "[encoded data removed]",
      "text/plain": [
       "<Figure size 1080x720 with 4 Axes>"
      ]
     },
     "metadata": {
      "needs_background": "light"
     },
     "output_type": "display_data"
    }
   ],
   "source": [
    "w_after = model_2.get_weights()\n",
    "\n",
    "h1_w = w_after[0].flatten().reshape(-1,1)\n",
    "h3_w = w_after[4].flatten().reshape(-1,1)\n",
    "h5_w = w_after[8].flatten().reshape(-1,1)\n",
    "out_w = w_after[10].flatten().reshape(-1,1)\n",
    "\n",
    "\n",
    "fig = plt.figure(figsize=(15,10))\n",
    "plt.title(\"Weight matrices after model trained\")\n",
    "plt.subplot(1, 4, 1)\n",
    "plt.title(\"Trained model Weights\")\n",
    "ax = sns.violinplot(y=h1_w,color='b')\n",
    "plt.xlabel('Hidden Layer 1')\n",
    "\n",
    "plt.subplot(1, 4, 2)\n",
    "plt.title(\"Trained model Weights\")\n",
    "ax = sns.violinplot(y=h3_w, color='r')\n",
    "plt.xlabel('Hidden Layer 3 ')\n",
    "\n",
    "plt.subplot(1, 4, 3)\n",
    "plt.title(\"Trained model Weights\")\n",
    "ax = sns.violinplot(y=h5_w, color='r')\n",
    "plt.xlabel('Hidden Layer 5 ')\n",
    "\n",
    "plt.subplot(1, 4, 4)\n",
    "plt.title(\"Trained model Weights\")\n",
    "ax = sns.violinplot(y=out_w,color='y')\n",
    "plt.xlabel('Output Layer ')\n",
    "plt.show()"
   ]
  },
  {
   "cell_type": "markdown",
   "metadata": {
    "id": "SPdJjIo1m0Jh"
   },
   "source": [
    "#3. MLP with 7 hidden layers"
   ]
  },
  {
   "cell_type": "code",
   "execution_count": 26,
   "metadata": {
    "id": "KNf3ENzXwZzP"
   },
   "outputs": [],
   "source": [
    "model_3 = Sequential()\n",
    "\n",
    "model_3.add(Dense(512, activation='relu', input_shape=(input_dim,), kernel_initializer= he_normal(seed=None)) )\n",
    "model_3.add(BatchNormalization())\n",
    "#model_3.add(Dropout(0.70))\n",
    "\n",
    "model_3.add(Dense(412, activation='relu', kernel_initializer=he_normal(seed=None)) )\n",
    "model_3.add(BatchNormalization())\n",
    "#model_3.add(Dropout(0.80))\n",
    "\n",
    "model_3.add(Dense(312, activation='relu', kernel_initializer=he_normal(seed=None)) )\n",
    "model_3.add(BatchNormalization())\n",
    "model_3.add(Dropout(0.70))\n",
    "\n",
    "model_3.add(Dense(212, activation='relu', kernel_initializer=he_normal(seed=None)) )\n",
    "model_3.add(BatchNormalization())\n",
    "model_3.add(Dropout(0.60))\n",
    "\n",
    "model_3.add(Dense(164, activation='relu', kernel_initializer=he_normal(seed=None)) )\n",
    "model_3.add(BatchNormalization())\n",
    "model_3.add(Dropout(0.60))\n",
    "\n",
    "model_3.add(Dense(92, activation='relu', kernel_initializer=he_normal(seed=None)) )\n",
    "model_3.add(BatchNormalization())\n",
    "#model_3.add(Dropout(0.70))\n",
    "\n",
    "model_3.add(Dense(32, activation='relu', kernel_initializer=he_normal(seed=None)) )\n",
    "model_3.add(BatchNormalization())\n",
    "#model_3.add(Dropout(0.80))\n",
    "\n",
    "model_3.add(Dense(output_dim, activation='softmax'))"
   ]
  },
  {
   "cell_type": "code",
   "execution_count": 27,
   "metadata": {
    "colab": {
     "base_uri": "https://localhost:8080/"
    },
    "id": "8er8d_2h2Hw8",
    "outputId": "1c723bb9-596d-4742-e557-896bd4421512"
   },
   "outputs": [
    {
     "name": "stdout",
     "output_type": "stream",
     "text": [
      "Epoch 1/40\n",
      "469/469 [==============================] - 6s 9ms/step - loss: 0.9687 - accuracy: 0.6861 - val_loss: 4.1359 - val_accuracy: 0.1102\n",
      "Epoch 2/40\n",
      "469/469 [==============================] - 4s 8ms/step - loss: 0.3093 - accuracy: 0.9133 - val_loss: 0.1698 - val_accuracy: 0.9534\n",
      "Epoch 3/40\n",
      "469/469 [==============================] - 4s 8ms/step - loss: 0.2206 - accuracy: 0.9395 - val_loss: 0.1427 - val_accuracy: 0.9645\n",
      "Epoch 4/40\n",
      "469/469 [==============================] - 4s 8ms/step - loss: 0.1737 - accuracy: 0.9527 - val_loss: 0.1508 - val_accuracy: 0.9610\n",
      "Epoch 5/40\n",
      "469/469 [==============================] - 4s 8ms/step - loss: 0.1546 - accuracy: 0.9589 - val_loss: 0.1349 - val_accuracy: 0.9644\n",
      "Epoch 6/40\n",
      "469/469 [==============================] - 4s 8ms/step - loss: 0.1383 - accuracy: 0.9627 - val_loss: 0.1527 - val_accuracy: 0.9629\n",
      "Epoch 7/40\n",
      "469/469 [==============================] - 4s 8ms/step - loss: 0.1222 - accuracy: 0.9673 - val_loss: 0.1351 - val_accuracy: 0.9666\n",
      "Epoch 8/40\n",
      "469/469 [==============================] - 4s 8ms/step - loss: 0.1104 - accuracy: 0.9706 - val_loss: 0.1064 - val_accuracy: 0.9729\n",
      "Epoch 9/40\n",
      "469/469 [==============================] - 4s 8ms/step - loss: 0.1059 - accuracy: 0.9722 - val_loss: 0.0990 - val_accuracy: 0.9752\n",
      "Epoch 10/40\n",
      "469/469 [==============================] - 4s 8ms/step - loss: 0.1005 - accuracy: 0.9728 - val_loss: 0.1034 - val_accuracy: 0.9741\n",
      "Epoch 11/40\n",
      "469/469 [==============================] - 4s 9ms/step - loss: 0.0881 - accuracy: 0.9767 - val_loss: 0.0827 - val_accuracy: 0.9790\n",
      "Epoch 12/40\n",
      "469/469 [==============================] - 4s 8ms/step - loss: 0.0878 - accuracy: 0.9760 - val_loss: 0.1035 - val_accuracy: 0.9737\n",
      "Epoch 13/40\n",
      "469/469 [==============================] - 4s 9ms/step - loss: 0.0796 - accuracy: 0.9781 - val_loss: 0.0981 - val_accuracy: 0.9762\n",
      "Epoch 14/40\n",
      "469/469 [==============================] - 4s 9ms/step - loss: 0.0762 - accuracy: 0.9797 - val_loss: 0.1086 - val_accuracy: 0.9732\n",
      "Epoch 15/40\n",
      "469/469 [==============================] - 4s 8ms/step - loss: 0.0733 - accuracy: 0.9800 - val_loss: 0.0909 - val_accuracy: 0.9781\n",
      "Epoch 16/40\n",
      "469/469 [==============================] - 4s 8ms/step - loss: 0.0690 - accuracy: 0.9809 - val_loss: 0.1021 - val_accuracy: 0.9756\n",
      "Epoch 17/40\n",
      "469/469 [==============================] - 4s 8ms/step - loss: 0.0658 - accuracy: 0.9822 - val_loss: 0.0974 - val_accuracy: 0.9761\n",
      "Epoch 18/40\n",
      "469/469 [==============================] - 5s 10ms/step - loss: 0.0615 - accuracy: 0.9833 - val_loss: 0.1065 - val_accuracy: 0.9760\n",
      "Epoch 19/40\n",
      "469/469 [==============================] - 4s 9ms/step - loss: 0.0619 - accuracy: 0.9834 - val_loss: 0.0848 - val_accuracy: 0.9807\n",
      "Epoch 20/40\n",
      "469/469 [==============================] - 4s 8ms/step - loss: 0.0561 - accuracy: 0.9842 - val_loss: 0.0923 - val_accuracy: 0.9791\n",
      "Epoch 21/40\n",
      "469/469 [==============================] - 4s 9ms/step - loss: 0.0540 - accuracy: 0.9854 - val_loss: 0.0848 - val_accuracy: 0.9807\n",
      "Epoch 22/40\n",
      "469/469 [==============================] - 4s 8ms/step - loss: 0.0508 - accuracy: 0.9863 - val_loss: 0.0851 - val_accuracy: 0.9795\n",
      "Epoch 23/40\n",
      "469/469 [==============================] - 4s 9ms/step - loss: 0.0501 - accuracy: 0.9863 - val_loss: 0.0857 - val_accuracy: 0.9788\n",
      "Epoch 24/40\n",
      "469/469 [==============================] - 4s 8ms/step - loss: 0.0456 - accuracy: 0.9872 - val_loss: 0.0908 - val_accuracy: 0.9782\n",
      "Epoch 25/40\n",
      "469/469 [==============================] - 4s 8ms/step - loss: 0.0482 - accuracy: 0.9866 - val_loss: 0.1008 - val_accuracy: 0.9788\n",
      "Epoch 26/40\n",
      "469/469 [==============================] - 4s 8ms/step - loss: 0.0433 - accuracy: 0.9884 - val_loss: 0.0849 - val_accuracy: 0.9809\n",
      "Epoch 27/40\n",
      "469/469 [==============================] - 4s 8ms/step - loss: 0.0460 - accuracy: 0.9872 - val_loss: 0.0873 - val_accuracy: 0.9799\n",
      "Epoch 28/40\n",
      "469/469 [==============================] - 4s 8ms/step - loss: 0.0435 - accuracy: 0.9878 - val_loss: 0.0748 - val_accuracy: 0.9813\n",
      "Epoch 29/40\n",
      "469/469 [==============================] - 4s 8ms/step - loss: 0.0410 - accuracy: 0.9890 - val_loss: 0.0944 - val_accuracy: 0.9787\n",
      "Epoch 30/40\n",
      "469/469 [==============================] - 4s 8ms/step - loss: 0.0394 - accuracy: 0.9890 - val_loss: 0.0885 - val_accuracy: 0.9796\n",
      "Epoch 31/40\n",
      "469/469 [==============================] - 4s 8ms/step - loss: 0.0366 - accuracy: 0.9897 - val_loss: 0.0847 - val_accuracy: 0.9806\n",
      "Epoch 32/40\n",
      "469/469 [==============================] - 4s 8ms/step - loss: 0.0363 - accuracy: 0.9899 - val_loss: 0.0860 - val_accuracy: 0.9793\n",
      "Epoch 33/40\n",
      "469/469 [==============================] - 4s 8ms/step - loss: 0.0364 - accuracy: 0.9895 - val_loss: 0.0824 - val_accuracy: 0.9810\n",
      "Epoch 34/40\n",
      "469/469 [==============================] - 4s 8ms/step - loss: 0.0350 - accuracy: 0.9900 - val_loss: 0.0849 - val_accuracy: 0.9804\n",
      "Epoch 35/40\n",
      "469/469 [==============================] - 4s 8ms/step - loss: 0.0364 - accuracy: 0.9898 - val_loss: 0.0919 - val_accuracy: 0.9801\n",
      "Epoch 36/40\n",
      "469/469 [==============================] - 4s 8ms/step - loss: 0.0317 - accuracy: 0.9907 - val_loss: 0.0913 - val_accuracy: 0.9804\n",
      "Epoch 37/40\n",
      "469/469 [==============================] - 4s 8ms/step - loss: 0.0336 - accuracy: 0.9909 - val_loss: 0.1026 - val_accuracy: 0.9771\n",
      "Epoch 38/40\n",
      "469/469 [==============================] - 4s 8ms/step - loss: 0.0324 - accuracy: 0.9910 - val_loss: 0.0870 - val_accuracy: 0.9819\n",
      "Epoch 39/40\n",
      "469/469 [==============================] - 4s 8ms/step - loss: 0.0309 - accuracy: 0.9913 - val_loss: 0.0784 - val_accuracy: 0.9836\n",
      "Epoch 40/40\n",
      "469/469 [==============================] - 4s 9ms/step - loss: 0.0310 - accuracy: 0.9917 - val_loss: 0.0830 - val_accuracy: 0.9819\n"
     ]
    }
   ],
   "source": [
    "model_3.compile(optimizer='adam', loss='categorical_crossentropy', metrics=['accuracy'])\n",
    "\n",
    "history = model_3.fit(X_train, y_train, batch_size=batch_size, epochs=nb_epoch, verbose=1, validation_data=(X_test, y_test))"
   ]
  },
  {
   "cell_type": "code",
   "execution_count": 28,
   "metadata": {
    "colab": {
     "base_uri": "https://localhost:8080/",
     "height": 314
    },
    "id": "NfS3eajsm1vA",
    "outputId": "ed0492a0-9c03-42f1-d08c-22f7402001e5"
   },
   "outputs": [
    {
     "name": "stdout",
     "output_type": "stream",
     "text": [
      "Test score: 0.08296863734722137\n",
      "Test accuracy: 0.9818999767303467\n"
     ]
    },
    {
     "data": {
      "image/png": "[encoded data removed]",
      "text/plain": [
       "<Figure size 432x288 with 1 Axes>"
      ]
     },
     "metadata": {
      "needs_background": "light"
     },
     "output_type": "display_data"
    }
   ],
   "source": [
    "score = model_3.evaluate(X_test, y_test, verbose=0) \n",
    "print('Test score:', score[0]) \n",
    "print('Test accuracy:', score[1])\n",
    "\n",
    "fig,ax = plt.subplots(1,1)\n",
    "ax.set_xlabel('epoch') ; ax.set_ylabel('Categorical Crossentropy Loss')\n",
    "\n",
    "# list of epoch numbers\n",
    "x = list(range(1,nb_epoch+1))\n",
    "\n",
    "\n",
    "vy = history.history['val_loss']\n",
    "ty = history.history['loss']\n",
    "plt_dynamic(x, vy, ty, ax)"
   ]
  },
  {
   "cell_type": "code",
   "execution_count": 29,
   "metadata": {
    "colab": {
     "base_uri": "https://localhost:8080/",
     "height": 612
    },
    "id": "hgujqKi4m1xg",
    "outputId": "cf60c773-b129-45c2-dec0-0c5a258e8a31"
   },
   "outputs": [
    {
     "data": {
      "image/png": "[encoded data removed]",
      "text/plain": [
       "<Figure size 1080x720 with 5 Axes>"
      ]
     },
     "metadata": {
      "needs_background": "light"
     },
     "output_type": "display_data"
    }
   ],
   "source": [
    "w_after = model_3.get_weights()\n",
    "\n",
    "h1_w = w_after[0].flatten().reshape(-1,1)\n",
    "h3_w = w_after[4].flatten().reshape(-1,1)\n",
    "h5_w = w_after[8].flatten().reshape(-1,1)\n",
    "h7_w = w_after[12].flatten().reshape(-1,1)\n",
    "out_w = w_after[14].flatten().reshape(-1,1)\n",
    "\n",
    "\n",
    "fig = plt.figure(figsize=(15,10))\n",
    "plt.title(\"Weight matrices after model trained\")\n",
    "plt.subplot(1, 5, 1)\n",
    "plt.title(\"Trained model Weights\")\n",
    "ax = sns.violinplot(y=h1_w,color='b')\n",
    "plt.xlabel('Hidden Layer 1')\n",
    "\n",
    "plt.subplot(1, 5, 2)\n",
    "plt.title(\"Trained model Weights\")\n",
    "ax = sns.violinplot(y=h3_w, color='r')\n",
    "plt.xlabel('Hidden Layer 3 ')\n",
    "\n",
    "plt.subplot(1, 5, 3)\n",
    "plt.title(\"Trained model Weights\")\n",
    "ax = sns.violinplot(y=h5_w, color='r')\n",
    "plt.xlabel('Hidden Layer 5 ')\n",
    "\n",
    "plt.subplot(1, 5, 4)\n",
    "plt.title(\"Trained model Weights\")\n",
    "ax = sns.violinplot(y=h7_w, color='r')\n",
    "plt.xlabel('Hidden Layer 5 ')\n",
    "\n",
    "plt.subplot(1, 5, 5)\n",
    "plt.title(\"Trained model Weights\")\n",
    "ax = sns.violinplot(y=out_w,color='y')\n",
    "plt.xlabel('Output Layer ')\n",
    "plt.show()"
   ]
  },
  {
   "cell_type": "code",
   "execution_count": 32,
   "metadata": {
    "colab": {
     "base_uri": "https://localhost:8080/"
    },
    "id": "6wJNMquIm12o",
    "outputId": "9dccbe20-eaba-4fb0-edbf-636726e68ce9"
   },
   "outputs": [
    {
     "name": "stdout",
     "output_type": "stream",
     "text": [
      "+------------------+--------+---------------+\n",
      "| MLP Architecture | epochs | Test accuracy |\n",
      "+------------------+--------+---------------+\n",
      "|     3 layer      |   40   |     0.9878    |\n",
      "|     5 layer      |   40   |     0.9792    |\n",
      "|     7 layer      |   40   |     0.9819    |\n",
      "+------------------+--------+---------------+\n"
     ]
    }
   ],
   "source": [
    "from prettytable import PrettyTable\n",
    "x= PrettyTable()\n",
    "x.field_names=['MLP Architecture', 'epochs', 'Test accuracy']\n",
    "x.add_row(['3 layer', '40', '0.9878'])\n",
    "x.add_row(['5 layer', '40' ,'0.9792'])\n",
    "x.add_row(['7 layer', '40' ,'0.9819' ])\n",
    "\n",
    "print(x)"
   ]
  }
 ],
 "metadata": {
  "accelerator": "GPU",
  "colab": {
   "collapsed_sections": [],
   "name": "Assignment_MNIST_Keras.ipynb",
   "provenance": []
  },
  "gpuClass": "standard",
  "kernelspec": {
   "display_name": "Python 3 (ipykernel)",
   "language": "python",
   "name": "python3"
  },
  "language_info": {
   "codemirror_mode": {
    "name": "ipython",
    "version": 3
   },
   "file_extension": ".py",
   "mimetype": "text/x-python",
   "name": "python",
   "nbconvert_exporter": "python",
   "pygments_lexer": "ipython3",
   "version": "3.8.12"
  }
 },
 "nbformat": 4,
 "nbformat_minor": 1
}
